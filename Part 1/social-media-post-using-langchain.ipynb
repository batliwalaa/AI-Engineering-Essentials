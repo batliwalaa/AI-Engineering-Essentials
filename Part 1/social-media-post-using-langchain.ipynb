{
 "cells": [
  {
   "cell_type": "markdown",
   "id": "9f22a56a",
   "metadata": {},
   "source": [
    "# Integrate SerpApi + Gemini Social media post using Langchain tool"
   ]
  },
  {
   "cell_type": "markdown",
   "id": "c25266db",
   "metadata": {},
   "source": [
    "### Import libraries and api keys"
   ]
  },
  {
   "cell_type": "code",
   "execution_count": 1,
   "id": "b8c925ca",
   "metadata": {},
   "outputs": [],
   "source": [
    "import os\n",
    "from langchain_google_genai import ChatGoogleGenerativeAI\n",
    "from langchain.prompts import PromptTemplate\n",
    "from langchain.schema import SystemMessage, HumanMessage\n",
    "from serpapi import GoogleSearch\n",
    "from dotenv import load_dotenv\n",
    "from IPython.display import display, Markdown\n",
    "\n",
    "load_dotenv()\n",
    "\n",
    "SERPAPI_API_KEY = os.getenv('SERPAPI_API_KEY')\n",
    "if SERPAPI_API_KEY is None:\n",
    "  raise Exception('Missing Serpapi api key')\n",
    "\n",
    "GEMINI_API_KEY = os.getenv('GEMINI_API_KEY')\n",
    "if GEMINI_API_KEY is None:\n",
    "  raise Exception('Missing Gemini api key')"
   ]
  },
  {
   "cell_type": "markdown",
   "id": "d6b53734",
   "metadata": {},
   "source": [
    "### Setup gemini with langchain"
   ]
  },
  {
   "cell_type": "code",
   "execution_count": 14,
   "id": "e4662ac2",
   "metadata": {},
   "outputs": [],
   "source": [
    "llm = ChatGoogleGenerativeAI(\n",
    "  model = 'models/gemini-1.5-flash',\n",
    "  temperature = 0.7,\n",
    "  google_api_key = GEMINI_API_KEY\n",
    ")"
   ]
  },
  {
   "cell_type": "markdown",
   "id": "94df9cde",
   "metadata": {},
   "source": [
    "### Fetch news using SerpApi"
   ]
  },
  {
   "cell_type": "code",
   "execution_count": 3,
   "id": "4f32ad30",
   "metadata": {},
   "outputs": [],
   "source": [
    "def fetch_ai_news_serpapi(query = \"latest AI news July 2025\", num_results = 5):\n",
    "  params = {\n",
    "    \"q\": query,\n",
    "    \"location\": \"United Kingdom\",\n",
    "    \"hl\": \"en\",\n",
    "    \"gl\": \"gb\",\n",
    "    \"api_key\": SERPAPI_API_KEY,\n",
    "    \"num\": num_results,\n",
    "    \"engine\": \"google\"\n",
    "  }\n",
    "\n",
    "  search = GoogleSearch(params)\n",
    "  results = search.get_dict()\n",
    "\n",
    "  return results.get(\"organic_results\", [])[:num_results]"
   ]
  },
  {
   "cell_type": "markdown",
   "id": "942ca87b",
   "metadata": {},
   "source": [
    "### Langchain prompt template"
   ]
  },
  {
   "cell_type": "code",
   "execution_count": 5,
   "id": "0029fbdc",
   "metadata": {},
   "outputs": [],
   "source": [
    "prompt_template = PromptTemplate(\n",
    "  input_variables=[\"news_text\"],\n",
    "  template=\"\"\"\n",
    "  You are an expert in AI communication and social media perception.\n",
    "\n",
    "  Given the following AI-related news articles:\n",
    "\n",
    "  {news_text}\n",
    "\n",
    "  For each:\n",
    "  - Summarize the core topic in 1 sentence.\n",
    "  - Say in 1 sentence whether this is effective for LinkedIn and why or why not.\n",
    "  - Give a rating out of 10 for LinkedIn impact.\n",
    "\n",
    "  Finally, recommend the top 2 stories to post on LinkedIn and explain why.\n",
    "  \"\"\"\n",
    ")"
   ]
  },
  {
   "cell_type": "markdown",
   "id": "8ec377a7",
   "metadata": {},
   "source": [
    "### Pipeline Execution"
   ]
  },
  {
   "cell_type": "code",
   "execution_count": 10,
   "id": "939d2d70",
   "metadata": {},
   "outputs": [],
   "source": [
    "def run_pipeline():\n",
    "  news_items = fetch_ai_news_serpapi()\n",
    "  \n",
    "  if not news_items:\n",
    "    print(\"No news found\")\n",
    "    return\n",
    "  \n",
    "  formatted = \"\"\n",
    "  for i, item in enumerate(news_items, 1):\n",
    "    title = item.get(\"title\", \"\")\n",
    "    snippet = item.get(\"snippet\", \"\")\n",
    "    link = item.get(\"link\", \"\")\n",
    "    formatted += f\"{i}. {title}\\n{snippet}\\nURL: {link}\\n\\n\"\n",
    "\n",
    "  print(formatted)\n",
    "\n",
    "  prompt = prompt_template.format(news_text = formatted)\n",
    "\n",
    "  response = llm.invoke([\n",
    "    SystemMessage(content=\"You are a helpful assistant summarizing and analyzing tech news.\"),\n",
    "    HumanMessage(content=prompt)\n",
    "  ])\n",
    "\n",
    "  print(response.content)\n",
    "  "
   ]
  },
  {
   "cell_type": "markdown",
   "id": "47d051ce",
   "metadata": {},
   "source": [
    "### Run the LangChain + Gemini + SerpAPI news agent"
   ]
  },
  {
   "cell_type": "code",
   "execution_count": 15,
   "id": "480beb9c",
   "metadata": {},
   "outputs": [
    {
     "name": "stdout",
     "output_type": "stream",
     "text": [
      "1. AI News | Latest AI News, Analysis & Events\n",
      "AGI. July 17, 2025. Apple loses key AI leader to Meta · Apple. July 8, 2025. Flood of interest in Europe's AI Gigafactories plan · Artificial Intelligence. July ...\n",
      "URL: https://www.artificialintelligence-news.com/\n",
      "\n",
      "2. The latest AI news we announced in June\n",
      "Here's a recap of some of our biggest AI updates from June, including more ways to search with AI Mode, a new way to share your NotebookLM notebooks publicly.\n",
      "URL: https://blog.google/technology/ai/google-ai-updates-june-2025/\n",
      "\n",
      "3. Latest AI Breakthroughs and News: May, June, July 2025\n",
      "Summary: OpenAI unveiled GPT-4.5, the newest iteration of its AI language model, focusing heavily on improved emotional intelligence (EQ). The upgrade ...\n",
      "URL: https://www.crescendo.ai/news/latest-ai-news-and-updates\n",
      "\n",
      "4. Artificial intelligence (AI)\n",
      "17 July 2025 · OpenAI launches personal assistant capable of controlling files and web browsers · UK switches on AI supercomputer that will help spot sick cows ...\n",
      "URL: https://www.theguardian.com/technology/artificialintelligenceai\n",
      "\n",
      "\n",
      "Here's an analysis of the provided AI news articles, focusing on their suitability for LinkedIn:\n",
      "\n",
      "**Article 1: AI News | Latest AI News, Analysis & Events**\n",
      "\n",
      "* **Core Topic:**  The article aggregates recent AI news, including personnel changes at major tech companies and developments in European AI infrastructure.\n",
      "* **LinkedIn Effectiveness:** This is moderately effective for LinkedIn as it offers broad industry news, but lacks specific, actionable insights or personal perspectives.\n",
      "* **LinkedIn Impact Rating:** 6/10\n",
      "\n",
      "\n",
      "**Article 2: The latest AI news we announced in June**\n",
      "\n",
      "* **Core Topic:** Google announced several AI updates in June, including enhanced AI search capabilities and improved notebook sharing features.\n",
      "* **LinkedIn Effectiveness:**  This is less effective for LinkedIn unless the poster works at Google or is deeply involved in Google's products.  It's primarily self-promotional.\n",
      "* **LinkedIn Impact Rating:** 4/10\n",
      "\n",
      "\n",
      "**Article 3: Latest AI Breakthroughs and News: May, June, July 2025**\n",
      "\n",
      "* **Core Topic:**  OpenAI's GPT-4.5 release, emphasizing improved emotional intelligence, is highlighted as a key AI advancement.\n",
      "* **LinkedIn Effectiveness:** This is highly effective for LinkedIn, as it discusses a significant technological advancement with implications for various industries.  It sparks discussion and demonstrates industry awareness.\n",
      "* **LinkedIn Impact Rating:** 9/10\n",
      "\n",
      "\n",
      "**Article 4: Artificial intelligence (AI)**\n",
      "\n",
      "* **Core Topic:**  The article covers diverse AI news, including OpenAI's new personal assistant and the UK's deployment of an AI supercomputer for agricultural applications.\n",
      "* **LinkedIn Effectiveness:**  This is moderately effective. While diverse, the lack of a central theme might dilute its impact. The specific examples (personal assistant, cow health) offer niche relevance.\n",
      "* **LinkedIn Impact Rating:** 7/10\n",
      "\n",
      "\n",
      "**Top 2 Recommendations for LinkedIn:**\n",
      "\n",
      "1. **Article 3 (Latest AI Breakthroughs):**  This is the strongest because it focuses on a specific, impactful development (GPT-4.5's emotional intelligence) relevant to a wide range of professionals.  It allows for discussion about the ethical and practical implications of AI's growing emotional capabilities.  A LinkedIn post could analyze the potential impact on customer service, marketing, or even healthcare.\n",
      "\n",
      "2. **Article 1 (AI News):** This is a good secondary choice because it offers a broader overview of current events.  A curated selection of the most relevant news items from this source, focusing on a specific theme (e.g., the talent war in AI, the European AI strategy), would create a more focused and impactful LinkedIn post than simply sharing the link.  It could start a conversation about broader trends.\n",
      "\n",
      "\n",
      "In summary, focusing on specific advancements and their potential impact, rather than broad overviews, is key for maximizing LinkedIn engagement within the AI field.\n"
     ]
    }
   ],
   "source": [
    "run_pipeline()"
   ]
  }
 ],
 "metadata": {
  "kernelspec": {
   "display_name": "AI-Engineering-Essentials",
   "language": "python",
   "name": "python3"
  },
  "language_info": {
   "codemirror_mode": {
    "name": "ipython",
    "version": 3
   },
   "file_extension": ".py",
   "mimetype": "text/x-python",
   "name": "python",
   "nbconvert_exporter": "python",
   "pygments_lexer": "ipython3",
   "version": "3.11.4"
  }
 },
 "nbformat": 4,
 "nbformat_minor": 5
}
