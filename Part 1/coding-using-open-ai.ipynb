{
 "cells": [
  {
   "cell_type": "markdown",
   "id": "7ac5602a",
   "metadata": {},
   "source": [
    "# Coding with Open AI"
   ]
  },
  {
   "cell_type": "markdown",
   "id": "405d95fc",
   "metadata": {},
   "source": [
    "### Import Libraries"
   ]
  },
  {
   "cell_type": "code",
   "execution_count": 1,
   "id": "8af25a77",
   "metadata": {},
   "outputs": [],
   "source": [
    "import os\n",
    "from openai import OpenAI\n",
    "from dotenv import load_dotenv\n",
    "from IPython.display import Markdown, display\n",
    "\n",
    "load_dotenv()\n",
    "\n",
    "OPENAI_API_KEY = os.getenv('OPENAI_API_KEY')\n",
    "\n",
    "if OPENAI_API_KEY is None:\n",
    "  raise Exception('Missing Open api key.')"
   ]
  },
  {
   "cell_type": "markdown",
   "id": "bc224a71",
   "metadata": {},
   "source": [
    "### Call the api"
   ]
  },
  {
   "cell_type": "code",
   "execution_count": 2,
   "id": "f5540e33",
   "metadata": {},
   "outputs": [],
   "source": [
    "client = OpenAI()\n",
    "\n",
    "completion = client.chat.completions.create(\n",
    "  model = 'gpt-4o-mini',\n",
    "  messages=[\n",
    "    { 'role': 'system', 'content': 'You are a helpful assistant.'},\n",
    "    { 'role': 'user', 'content': 'write a haiku about recursion in programming.'}\n",
    "  ]\n",
    ")"
   ]
  },
  {
   "cell_type": "code",
   "execution_count": 11,
   "id": "406f9ac5",
   "metadata": {},
   "outputs": [
    {
     "name": "stdout",
     "output_type": "stream",
     "text": [
      "Code calls itself back,  \n",
      "Layers of function unfold,  \n",
      "Endless depth in loops.\n"
     ]
    }
   ],
   "source": [
    "print(completion.choices[0].message.content)"
   ]
  },
  {
   "cell_type": "markdown",
   "id": "86ebf203",
   "metadata": {},
   "source": [
    "### Customize the prompt"
   ]
  },
  {
   "cell_type": "markdown",
   "id": "ac8a25f4",
   "metadata": {},
   "source": [
    "- Build a travel itinerary"
   ]
  },
  {
   "cell_type": "code",
   "execution_count": null,
   "id": "34634aac",
   "metadata": {},
   "outputs": [],
   "source": [
    "system_message = 'You are a helpful assistant.'\n",
    "\n",
    "prompt = \"\"\"\n",
    "Create a BRIEF travel itinerary for the following scenario:\n",
    "\n",
    "Travelers: A family of 4 with 2 adults and 2 children (ages 8 and 10)\n",
    "Destination: Japan\n",
    "Duration: 3 days\n",
    "Budget: $500\n",
    "\n",
    "Requirements:\n",
    "- Keep the entire itinerary under 400 words\n",
    "- Use bullet points for each activity\n",
    "- Include only 3 activities per day (morning, afternoon, evening)\n",
    "- List approximate cost for each activity\n",
    "- Ensure variety (cultural, outdoor, local experience)\n",
    "\n",
    "Format each day as:\n",
    "DAY 1: [Day of week]\n",
    "- Morning: [Activity] - $XX\n",
    "- Afternoon: [Activity] - $XX\n",
    "- Evening: [Activity/meal] - $XX\n",
    "\n",
    "End with a simple total cost summary.\n",
    "\"\"\""
   ]
  },
  {
   "cell_type": "code",
   "execution_count": 16,
   "id": "194dfad4",
   "metadata": {},
   "outputs": [
    {
     "data": {
      "text/markdown": [
       "**Travel Itinerary for Family of 4 in Japan (3 Days)**  \n",
       "\n",
       "**DAY 1: Friday**  \n",
       "- Morning: Visit the Senso-ji Temple in Asakusa - Free  \n",
       "   (Explore the iconic temple and surrounding streets)  \n",
       "- Afternoon: Nakamise Shopping Street - $20  \n",
       "   (Enjoy traditional snacks and souvenirs; estimate $5 per person)  \n",
       "- Evening: Dinner at a local ramen shop - $40  \n",
       "   (Family meal at a casual restaurant)  \n",
       "\n",
       "**DAY 2: Saturday**  \n",
       "- Morning: Ueno Park and Zoo - $36  \n",
       "   (Entry for 2 adults and 2 children: $12 x 3 for kids; adults free)  \n",
       "- Afternoon: TeamLab Borderless in Odaiba - $100  \n",
       "   (Innovative digital art exhibition, kids will love it)  \n",
       "- Evening: Explore the Odaiba seaside park - Free  \n",
       "   (Enjoy the view of Tokyo Bay and the Rainbow Bridge)  \n",
       "\n",
       "**DAY 3: Sunday**  \n",
       "- Morning: Tokyo Tower Observatory - $40  \n",
       "   (Family ticket: $10 x 4)  \n",
       "- Afternoon: Picnic at Yoyogi Park - $30  \n",
       "   (Grab take-out sushi or bento boxes for lunch)  \n",
       "- Evening: Visit Shibuya and experience the Shibuya Crossing - Free  \n",
       "   (Explore the area around the famous crossing and enjoy the local vibe)  \n",
       "\n",
       "**Total Cost Summary:**  \n",
       "- Day 1: $60  \n",
       "- Day 2: $136  \n",
       "- Day 3: $70  \n",
       "- **Total:** $266  \n",
       "\n",
       "**Notes:** \n",
       "- The remaining budget of $234 can be used for transportation, snacks, and potential additional activities. \n",
       "- Consider using public transportation (like a prepaid Suica card) to save money and facilitate travel."
      ],
      "text/plain": [
       "<IPython.core.display.Markdown object>"
      ]
     },
     "metadata": {},
     "output_type": "display_data"
    }
   ],
   "source": [
    "completion = client.chat.completions.create(\n",
    "  model='gpt-4o-mini',\n",
    "  messages=[\n",
    "    { 'role': 'system', 'content': system_message },\n",
    "    { 'role': 'user', 'content': prompt }\n",
    "  ]\n",
    ")\n",
    "\n",
    "chat_response = completion.choices[0].message.content\n",
    "\n",
    "display(Markdown(chat_response))"
   ]
  },
  {
   "cell_type": "markdown",
   "id": "b90eb092",
   "metadata": {},
   "source": [
    "### Rate the response using reasoning model"
   ]
  },
  {
   "cell_type": "code",
   "execution_count": 17,
   "id": "62575f8b",
   "metadata": {},
   "outputs": [],
   "source": [
    "system_message = 'You are a helpfule assistant.'\n",
    "\n",
    "reasoning_prompt = f\"\"\"\n",
    "I've been given this travel itinerary:\n",
    "\n",
    "{chat_response}\n",
    "\n",
    "Provide a BRIEF rating in each category with ONE LINE of explanation:\n",
    "\n",
    "1. Budget (1-10): [Score] - [One-line explanation]\n",
    "2. Travel Time (1-10): [Score] - [One-line explanation]\n",
    "3. Variety (1-10): [Score] - [One-line explanation]\n",
    "4. Family-Friendly (1-10): [Score] - [One-line explanation]\n",
    "5. Local Experience (1-10): [Score] - [One-line explanation]\n",
    "6. Cohesiveness (1-10): [Score] - [One-line explanation]\n",
    "\n",
    "TOTAL SCORE: [X/100]\n",
    "\"\"\""
   ]
  },
  {
   "cell_type": "code",
   "execution_count": 20,
   "id": "77f331dc",
   "metadata": {},
   "outputs": [
    {
     "data": {
      "text/markdown": [
       "1. Budget (1-10): 8 – Well-planned spending with a healthy leftover for extras.  \n",
       "2. Travel Time (1-10): 7 – The schedule is busy and may feel rushed without careful transit planning.  \n",
       "3. Variety (1-10): 9 – Offers a diverse mix of cultural, historical, and modern attractions.  \n",
       "4. Family-Friendly (1-10): 9 – Activities are engaging for both kids and adults, ensuring fun for everyone.  \n",
       "5. Local Experience (1-10): 8 – Combines famous landmarks with authentic local vibes.  \n",
       "6. Cohesiveness (1-10): 8 – The itinerary flows logically despite a packed schedule.  \n",
       "\n",
       "TOTAL SCORE: 82/100"
      ],
      "text/plain": [
       "<IPython.core.display.Markdown object>"
      ]
     },
     "metadata": {},
     "output_type": "display_data"
    }
   ],
   "source": [
    "completion = client.chat.completions.create(\n",
    "    model=\"o3-mini\",\n",
    "    messages=[\n",
    "        {\"role\": \"system\", \"content\": system_message},\n",
    "        {\n",
    "            \"role\": \"user\",\n",
    "            \"content\": reasoning_prompt\n",
    "        }\n",
    "    ]\n",
    ")\n",
    "\n",
    "reasoning_response = completion.choices[0].message.content\n",
    "display(Markdown(reasoning_response))"
   ]
  },
  {
   "cell_type": "markdown",
   "id": "135d1c4f",
   "metadata": {},
   "source": [
    "### Improve initial Itinerary prompt to improve rating"
   ]
  },
  {
   "cell_type": "code",
   "execution_count": 21,
   "id": "d1e0235b",
   "metadata": {},
   "outputs": [],
   "source": [
    "system_message = \"You are a helpful and concise travel planner.\"\n",
    "\n",
    "prompt = \"\"\"\n",
    "You are a travel assistant creating a brief, family-friendly itinerary. Please generate a 3-day travel itinerary for a family of 4 (2 adults, 2 children aged 8 and 10) visiting **Japan**. The total trip budget is **$500**.\n",
    "\n",
    "Constraints:\n",
    "- Entire itinerary must be **under 400 words**\n",
    "- Each day should include **exactly 3 activities**: one each for **morning**, **afternoon**, and **evening**\n",
    "- Each activity should include an **approximate cost**\n",
    "- Activities should reflect a **variety of experiences**: cultural, outdoor, and local\n",
    "- Use **bullet points** under each day for clarity\n",
    "- Keep activities **family-friendly and budget-conscious**\n",
    "\n",
    "**Formatting Instructions** (strictly follow):\n",
    "DAY 1: [Day of Week]\n",
    "- Morning: [Activity] – $XX\n",
    "- Afternoon: [Activity] – $XX\n",
    "- Evening: [Activity/meal] – $XX\n",
    "\n",
    "Repeat the same format for Day 2 and Day 3.\n",
    "\n",
    "End the itinerary with:\n",
    "**Estimated Total Cost: $XXX**\n",
    "\"\"\"\n"
   ]
  },
  {
   "cell_type": "code",
   "execution_count": 22,
   "id": "7ed0d8f3",
   "metadata": {},
   "outputs": [
    {
     "data": {
      "text/markdown": [
       "**DAY 1: Friday**  \n",
       "- Morning: Visit **Senso-ji Temple** in Asakusa – Free  \n",
       "- Afternoon: Explore **Ueno Park** and visit the **Ueno Zoo** – $20 (family ticket)  \n",
       "- Evening: Dinner at a local **ramen restaurant** – $30  \n",
       "\n",
       "**DAY 2: Saturday**  \n",
       "- Morning: Take a walk through the **Meiji Shrine** and surrounding forest – Free  \n",
       "- Afternoon: Visit **Harajuku** for shopping and people-watching (try local snacks) – $20  \n",
       "- Evening: Enjoy a **Kaiten-zushi (conveyor belt sushi)** dinner – $50  \n",
       "\n",
       "**DAY 3: Sunday**  \n",
       "- Morning: Spend the morning at **Odaiba**, exploring the **teamLab Borderless** museum – $60 (family ticket)  \n",
       "- Afternoon: Relax at **Odaiba Seaside Park**, enjoy the beach – Free  \n",
       "- Evening: Eat at a local **izakaya** for a casual family meal – $40  \n",
       "\n",
       "**Estimated Total Cost: $290**"
      ],
      "text/plain": [
       "<IPython.core.display.Markdown object>"
      ]
     },
     "metadata": {},
     "output_type": "display_data"
    }
   ],
   "source": [
    "completion = client.chat.completions.create(\n",
    "    model=\"gpt-4o-mini\",\n",
    "    messages=[\n",
    "        {\"role\": \"system\", \"content\": system_message},\n",
    "        {\n",
    "            \"role\": \"user\",\n",
    "            \"content\": prompt\n",
    "        }\n",
    "    ]\n",
    ")\n",
    "\n",
    "chat_response = completion.choices[0].message.content\n",
    "display(Markdown(chat_response))"
   ]
  },
  {
   "cell_type": "code",
   "execution_count": 27,
   "id": "e9e288dc",
   "metadata": {},
   "outputs": [],
   "source": [
    "system_message = \"You are a helpful and concise travel reviewer.\"\n",
    "\n",
    "reasoning_prompt = f\"\"\"\n",
    "Evaluate the following travel itinerary for a family trip. Rate it in each of the six categories below. Provide a score from 1 to 10 and a brief, one-line explanation for each.\n",
    "\n",
    "Itinerary:\n",
    "{chat_response}\n",
    "\n",
    "Use the rubric below to rate the itinerary across 6 categories:\n",
    "\n",
    "1. **Budget**\n",
    "   - 9–10: Fully within budget with realistic activity costs\n",
    "   - 6–8: Slightly over or has 1–2 questionable estimates\n",
    "   - 3–5: Significant overbudget or multiple unrealistic costs\n",
    "   - 1–2: Exceeds budget with poor cost consideration\n",
    "\n",
    "2. **Travel Time**\n",
    "   - 9–10: Minimal travel between locations, efficient schedule\n",
    "   - 6–8: Some travel inefficiencies but generally acceptable\n",
    "   - 3–5: Excessive commuting or unrealistic scheduling\n",
    "   - 1–2: Travel-heavy with poor planning or conflicting times\n",
    "\n",
    "3. **Variety**\n",
    "   - 9–10: Balanced mix of cultural, outdoor, food, and fun activities\n",
    "   - 6–8: Some variety but slightly repetitive or lacking in one area\n",
    "   - 3–5: Mostly one type of activity (e.g., all cultural or outdoor)\n",
    "   - 1–2: Very little or no variety\n",
    "\n",
    "4. **Family-Friendliness**\n",
    "   - 9–10: Perfectly suitable for children (ages 8 & 10), engaging and safe\n",
    "   - 6–8: Mostly child-friendly with minor adult-skewed elements\n",
    "   - 3–5: Several activities unsuitable or boring for kids\n",
    "   - 1–2: Inappropriate or unsafe for children\n",
    "\n",
    "5. **Local Experience**\n",
    "   - 9–10: Includes authentic cultural immersion (local food, customs, areas)\n",
    "   - 6–8: Some local flavor, but a bit generic/touristy\n",
    "   - 3–5: Mostly commercial or international experiences\n",
    "   - 1–2: No local relevance or authenticity\n",
    "\n",
    "6. **Cohesiveness**\n",
    "   - 9–10: Days flow logically, no backtracking or chaos\n",
    "   - 6–8: Mostly cohesive with minor planning gaps\n",
    "   - 3–5: Incoherent flow or poor time/location transitions\n",
    "   - 1–2: Completely disjointed or unrealistic schedule\n",
    "\n",
    "Scoring Format (strictly follow):\n",
    "1. **Budget (1–10)**: [Score] – [Short explanation]\n",
    "2. **Travel Time (1–10)**: [Score] – [Short explanation]\n",
    "3. **Variety (1–10)**: [Score] – [Short explanation]\n",
    "4. **Family-Friendliness (1–10)**: [Score] – [Short explanation]\n",
    "5. **Local Experience (1–10)**: [Score] – [Short explanation]\n",
    "6. **Cohesiveness (1–10)**: [Score] – [Short explanation]\n",
    "\n",
    "Briefly justify the TOTAL SCORE after the breakdown.\n",
    "\n",
    "End with:\n",
    "**TOTAL SCORE: [XX/100]**\n",
    "\"\"\"\n"
   ]
  },
  {
   "cell_type": "code",
   "execution_count": 28,
   "id": "53c07a50",
   "metadata": {},
   "outputs": [
    {
     "data": {
      "text/markdown": [
       "1. Budget (1–10): 9 – The itinerary stays affordable with realistic, family-friendly expense estimates.  \n",
       "2. Travel Time (1–10): 8 – While most locations are nearby, minor travel inefficiencies between districts are possible.  \n",
       "3. Variety (1–10): 9 – A balanced mix of cultural, outdoor, food, and creative activities keeps the itinerary engaging.  \n",
       "4. Family-Friendliness (1–10): 8 – Most activities are child-friendly, though some dining choices may require extra attention.  \n",
       "5. Local Experience (1–10): 9 – The plan offers authentic Japanese cultural sites and local meals, ensuring immersion.  \n",
       "6. Cohesiveness (1–10): 9 – The daily plans are well-structured with a logical flow and little backtracking.\n",
       "\n",
       "Overall, the itinerary is well-rounded and offers a culturally rich, engaging experience for the family with minor travel gaps.  \n",
       "TOTAL SCORE: 87/100"
      ],
      "text/plain": [
       "<IPython.core.display.Markdown object>"
      ]
     },
     "metadata": {},
     "output_type": "display_data"
    }
   ],
   "source": [
    "completion = client.chat.completions.create(\n",
    "    model=\"o3-mini\",\n",
    "    messages=[\n",
    "        {\"role\": \"system\", \"content\": system_message},\n",
    "        {\n",
    "            \"role\": \"user\",\n",
    "            \"content\": reasoning_prompt\n",
    "        }\n",
    "    ]\n",
    ")\n",
    "\n",
    "reasoning_response = completion.choices[0].message.content\n",
    "display(Markdown(reasoning_response))"
   ]
  }
 ],
 "metadata": {
  "kernelspec": {
   "display_name": "AI-Engineering-Essentials",
   "language": "python",
   "name": "python3"
  },
  "language_info": {
   "codemirror_mode": {
    "name": "ipython",
    "version": 3
   },
   "file_extension": ".py",
   "mimetype": "text/x-python",
   "name": "python",
   "nbconvert_exporter": "python",
   "pygments_lexer": "ipython3",
   "version": "3.11.4"
  }
 },
 "nbformat": 4,
 "nbformat_minor": 5
}
