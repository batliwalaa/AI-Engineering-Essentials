{
 "cells": [
  {
   "cell_type": "markdown",
   "id": "54f854d6",
   "metadata": {},
   "source": [
    "# Social Media Post Generator - OpenAI"
   ]
  },
  {
   "cell_type": "markdown",
   "id": "2054fdca",
   "metadata": {},
   "source": [
    "### Import libraries and api keys"
   ]
  },
  {
   "cell_type": "code",
   "execution_count": 1,
   "id": "68247e82",
   "metadata": {},
   "outputs": [],
   "source": [
    "import os\n",
    "from openai import OpenAI\n",
    "from dotenv import load_dotenv\n",
    "from IPython.display import display, Markdown\n",
    "\n",
    "load_dotenv()\n",
    "\n",
    "OPENAI_API_KEY = os.getenv(\"OPENAI_API_KEY\")\n",
    "\n",
    "if OPENAI_API_KEY is None:\n",
    "  raise Exception(\"Missing open ai api key.\")"
   ]
  },
  {
   "cell_type": "markdown",
   "id": "94a79222",
   "metadata": {},
   "source": [
    "### Grab latest news articles"
   ]
  },
  {
   "cell_type": "code",
   "execution_count": 2,
   "id": "819a8ea9",
   "metadata": {},
   "outputs": [],
   "source": [
    "client = OpenAI()\n",
    "\n",
    "completion = client.chat.completions.create(\n",
    "  model = \"gpt-4o-mini-search-preview\",\n",
    "  messages = [\n",
    "    { \n",
    "      \"role\": \"user\", \n",
    "      \"content\": \"Bring up some of the latest news articles around the field of AI.\"\n",
    "    }\n",
    "  ]\n",
    ")\n",
    "\n",
    "choices = completion.choices"
   ]
  },
  {
   "cell_type": "code",
   "execution_count": 4,
   "id": "ccb3b458",
   "metadata": {},
   "outputs": [
    {
     "name": "stdout",
     "output_type": "stream",
     "text": [
      "[Choice(finish_reason='stop', index=0, logprobs=None, message=ChatCompletionMessage(content='Here are some of the latest developments in the field of artificial intelligence:\\n\\n**Regulatory Developments**\\n\\n- **EU\\'s AI Code of Practice**: The European Union has introduced a voluntary Code of Practice for general-purpose AI to assist businesses in complying with the upcoming AI Act, effective August 2, 2025. The code emphasizes transparency, copyright protection, and the safety of advanced AI systems. ([apnews.com](https://apnews.com/article/a3df6a1a8789eea7fcd17bffc750e291?utm_source=openai))\\n\\n**Corporate Announcements**\\n\\n- **xAI\\'s Grok 4 Release**: Elon Musk\\'s AI startup, xAI, unveiled Grok 4, described as the \"smartest AI in the world.\" The model excels in complex tasks, including solving intricate math problems and generating realistic images. A \"heavy\" version allows multiple agents to collaborate on challenging tasks. ([axios.com](https://www.axios.com/2025/07/10/grok4-grok-xai-elon-musk?utm_source=openai))\\n\\n- **Grok AI Integration in Tesla Vehicles**: Musk announced that Grok AI will be integrated into Tesla vehicles by next week, marking a significant advancement in AI capabilities within electric vehicles. ([reuters.com](https://www.reuters.com/business/autos-transportation/grok-ai-be-available-tesla-vehicles-next-week-musk-says-2025-07-10/?utm_source=openai))\\n\\n**AI Applications and Experiments**\\n\\n- **Anthropic\\'s AI Vending Machine Experiment**: AI company Anthropic conducted an experiment where their AI agent, Claudius, managed a vending machine. The experiment highlighted the current limitations of autonomous AI agents, as Claudius underperformed in economic reasoning and exhibited erratic behavior. ([ft.com](https://www.ft.com/content/c26555d4-e2c5-4dd1-af44-6a3ed47754fb?utm_source=openai))\\n\\n- **Google\\'s Veo 3 Tool**: Google introduced Veo 3, an AI-powered tool that transforms still images into short videos with sound. Users can upload a photo and input prompts to generate desired motion, background music, and dialogue. The tool is currently available to Ultra and Pro users on the web, with plans for a mobile launch. ([axios.com](https://www.axios.com/2025/07/10/google-veo-3-ai-videos-still-images?utm_source=openai))\\n\\n**Legal and Ethical Considerations**\\n\\n- **iyO Inc. Sues Former Executive**: Tech startup iyO Inc. filed a lawsuit against former executive Dan Sargent, alleging the leak of confidential product designs. This follows a previous trademark infringement lawsuit against OpenAI and designer Jony Ive over a similar-sounding AI interface venture. ([apnews.com](https://apnews.com/article/0193532cf71cf975de62b4218ebd3bb6?utm_source=openai))\\n\\n\\n## Recent AI Industry News:\\n- [EU unveils AI code of practice to help businesses comply with bloc\\'s rules](https://apnews.com/article/a3df6a1a8789eea7fcd17bffc750e291?utm_source=openai)\\n- [xAI debuts Grok 4, \"smartest AI in the world\"](https://www.axios.com/2025/07/10/grok4-grok-xai-elon-musk?utm_source=openai)\\n- [Grok AI to be available in Tesla vehicles next week, Musk says](https://www.reuters.com/business/autos-transportation/grok-ai-be-available-tesla-vehicles-next-week-musk-says-2025-07-10/?utm_source=openai) ', refusal=None, role='assistant', annotations=[Annotation(type='url_citation', url_citation=AnnotationURLCitation(end_index=504, start_index=411, title=\"EU unveils AI code of practice to help businesses comply with bloc's rules\", url='https://apnews.com/article/a3df6a1a8789eea7fcd17bffc750e291?utm_source=openai')), Annotation(type='url_citation', url_citation=AnnotationURLCitation(end_index=932, start_index=842, title='xAI debuts Grok 4, \"smartest AI in the world\"', url='https://www.axios.com/2025/07/10/grok4-grok-xai-elon-musk?utm_source=openai')), Annotation(type='url_citation', url_citation=AnnotationURLCitation(end_index=1295, start_index=1139, title='Grok AI to be available in Tesla vehicles next week, Musk says', url='https://www.reuters.com/business/autos-transportation/grok-ai-be-available-tesla-vehicles-next-week-musk-says-2025-07-10/?utm_source=openai')), Annotation(type='url_citation', url_citation=AnnotationURLCitation(end_index=1737, start_index=1644, title=\"'Vibe managers' have yet to find their groove\", url='https://www.ft.com/content/c26555d4-e2c5-4dd1-af44-6a3ed47754fb?utm_source=openai')), Annotation(type='url_citation', url_citation=AnnotationURLCitation(end_index=2172, start_index=2071, title=\"Google AI's new trick: Turn any image into a brief video\", url='https://www.axios.com/2025/07/10/google-veo-3-ai-videos-still-images?utm_source=openai')), Annotation(type='url_citation', url_citation=AnnotationURLCitation(end_index=2608, start_index=2515, title='AI device startup that sued OpenAI and Jony Ive is now suing its own ex-employee over trade secrets', url='https://apnews.com/article/0193532cf71cf975de62b4218ebd3bb6?utm_source=openai')), Annotation(type='url_citation', url_citation=AnnotationURLCitation(end_index=2796, start_index=2641, title=\"EU unveils AI code of practice to help businesses comply with bloc's rules\", url='https://apnews.com/article/a3df6a1a8789eea7fcd17bffc750e291?utm_source=openai')), Annotation(type='url_citation', url_citation=AnnotationURLCitation(end_index=2923, start_index=2799, title='xAI debuts Grok 4, \"smartest AI in the world\"', url='https://www.axios.com/2025/07/10/grok4-grok-xai-elon-musk?utm_source=openai')), Annotation(type='url_citation', url_citation=AnnotationURLCitation(end_index=3131, start_index=2926, title='Grok AI to be available in Tesla vehicles next week, Musk says', url='https://www.reuters.com/business/autos-transportation/grok-ai-be-available-tesla-vehicles-next-week-musk-says-2025-07-10/?utm_source=openai'))], audio=None, function_call=None, tool_calls=None))]\n"
     ]
    },
    {
     "data": {
      "text/markdown": [
       "Here are some of the latest developments in the field of artificial intelligence:\n",
       "\n",
       "**Regulatory Developments**\n",
       "\n",
       "- **EU's AI Code of Practice**: The European Union has introduced a voluntary Code of Practice for general-purpose AI to assist businesses in complying with the upcoming AI Act, effective August 2, 2025. The code emphasizes transparency, copyright protection, and the safety of advanced AI systems. ([apnews.com](https://apnews.com/article/a3df6a1a8789eea7fcd17bffc750e291?utm_source=openai))\n",
       "\n",
       "**Corporate Announcements**\n",
       "\n",
       "- **xAI's Grok 4 Release**: Elon Musk's AI startup, xAI, unveiled Grok 4, described as the \"smartest AI in the world.\" The model excels in complex tasks, including solving intricate math problems and generating realistic images. A \"heavy\" version allows multiple agents to collaborate on challenging tasks. ([axios.com](https://www.axios.com/2025/07/10/grok4-grok-xai-elon-musk?utm_source=openai))\n",
       "\n",
       "- **Grok AI Integration in Tesla Vehicles**: Musk announced that Grok AI will be integrated into Tesla vehicles by next week, marking a significant advancement in AI capabilities within electric vehicles. ([reuters.com](https://www.reuters.com/business/autos-transportation/grok-ai-be-available-tesla-vehicles-next-week-musk-says-2025-07-10/?utm_source=openai))\n",
       "\n",
       "**AI Applications and Experiments**\n",
       "\n",
       "- **Anthropic's AI Vending Machine Experiment**: AI company Anthropic conducted an experiment where their AI agent, Claudius, managed a vending machine. The experiment highlighted the current limitations of autonomous AI agents, as Claudius underperformed in economic reasoning and exhibited erratic behavior. ([ft.com](https://www.ft.com/content/c26555d4-e2c5-4dd1-af44-6a3ed47754fb?utm_source=openai))\n",
       "\n",
       "- **Google's Veo 3 Tool**: Google introduced Veo 3, an AI-powered tool that transforms still images into short videos with sound. Users can upload a photo and input prompts to generate desired motion, background music, and dialogue. The tool is currently available to Ultra and Pro users on the web, with plans for a mobile launch. ([axios.com](https://www.axios.com/2025/07/10/google-veo-3-ai-videos-still-images?utm_source=openai))\n",
       "\n",
       "**Legal and Ethical Considerations**\n",
       "\n",
       "- **iyO Inc. Sues Former Executive**: Tech startup iyO Inc. filed a lawsuit against former executive Dan Sargent, alleging the leak of confidential product designs. This follows a previous trademark infringement lawsuit against OpenAI and designer Jony Ive over a similar-sounding AI interface venture. ([apnews.com](https://apnews.com/article/0193532cf71cf975de62b4218ebd3bb6?utm_source=openai))\n",
       "\n",
       "\n",
       "## Recent AI Industry News:\n",
       "- [EU unveils AI code of practice to help businesses comply with bloc's rules](https://apnews.com/article/a3df6a1a8789eea7fcd17bffc750e291?utm_source=openai)\n",
       "- [xAI debuts Grok 4, \"smartest AI in the world\"](https://www.axios.com/2025/07/10/grok4-grok-xai-elon-musk?utm_source=openai)\n",
       "- [Grok AI to be available in Tesla vehicles next week, Musk says](https://www.reuters.com/business/autos-transportation/grok-ai-be-available-tesla-vehicles-next-week-musk-says-2025-07-10/?utm_source=openai) "
      ],
      "text/plain": [
       "<IPython.core.display.Markdown object>"
      ]
     },
     "metadata": {},
     "output_type": "display_data"
    }
   ],
   "source": [
    "print(choices)\n",
    "\n",
    "news_articles = choices[0].message.content\n",
    "display(Markdown(news_articles))"
   ]
  },
  {
   "cell_type": "markdown",
   "id": "c62755fb",
   "metadata": {},
   "source": [
    "### Summarize and write a social media post"
   ]
  },
  {
   "cell_type": "code",
   "execution_count": 7,
   "id": "79261eeb",
   "metadata": {},
   "outputs": [],
   "source": [
    "system_message = f\"\"\"\n",
    "You are a helpful assistant whose job is to accurately summarize long series of news articles provided to you by the user\n",
    "and write up a compelling and easy to digest social media post\n",
    "\"\"\"\n",
    "\n",
    "prompt = f\"\"\"\n",
    "The following is a series of news articles on the field of AI. Please summarize the articles and write a\n",
    "compelling social media post for LinkedIn highlighting key points about each article.\n",
    "\n",
    "The post should be short and concise and should not be more than 100 words, bullet point.\n",
    "\n",
    "{news_articles}\n",
    "\n",
    "\"\"\"\n",
    "\n",
    "\n",
    "completion = client.chat.completions.create(\n",
    "  model = \"gpt-4o-mini\",\n",
    "  messages = [\n",
    "    { \"role\": \"system\", \"content\": system_message },\n",
    "    { \"role\": \"user\", \"content\": prompt }\n",
    "  ]\n",
    ")\n"
   ]
  },
  {
   "cell_type": "code",
   "execution_count": 8,
   "id": "5d114461",
   "metadata": {},
   "outputs": [
    {
     "data": {
      "text/markdown": [
       "🚀 **Latest Developments in AI!** 🚀\n",
       "\n",
       "- **EU's AI Code of Practice**: New voluntary guidelines aim to ensure transparency and safety before the AI Act rolls out in 2025.  \n",
       "- **xAI's Grok 4 Release**: Elon Musk's xAI launches Grok 4, claimed to be the \"smartest AI,\" enhancing complex task capabilities.  \n",
       "- **Grok Integration in Tesla**: Grok AI set to debut in Tesla vehicles next week—boosting AI advancements in the automotive sector.  \n",
       "- **Anthropic's Experiment**: Claudius, Anthropic's AI agent, struggles with economic reasoning during a vending machine test.  \n",
       "- **Google's Veo 3 Tool**: Transform still images into videos with sound—available to select users now!  \n",
       "- **iyO Inc. Legal Issues**: Lawsuit filed against a former executive over confidential leaks highlights ongoing legal battles in the tech sphere.  \n",
       "\n",
       "Stay tuned for more! 🧠✨ #AI #Innovation #Technology"
      ],
      "text/plain": [
       "<IPython.core.display.Markdown object>"
      ]
     },
     "metadata": {},
     "output_type": "display_data"
    }
   ],
   "source": [
    "chat_response = completion.choices[0].message.content\n",
    "display(Markdown(chat_response))"
   ]
  },
  {
   "cell_type": "markdown",
   "id": "082fcb34",
   "metadata": {},
   "source": [
    "### Enchance structure and layout"
   ]
  },
  {
   "cell_type": "code",
   "execution_count": 11,
   "id": "9a61ab85",
   "metadata": {},
   "outputs": [],
   "source": [
    "system_message = \"You are a helpful assistant.\"\n",
    "\n",
    "reasoning_prompt = f\"\"\"\n",
    "I've been given this social media post\n",
    "\n",
    "I want you to analyze the style of writing and key points mentioned in the post and provide \n",
    "me with a reasoning as to why this post is effective or not effective for a LinkedIn audience\n",
    "for those who may have little to no knowledhe about AI.\n",
    "\n",
    "After this, restructure the post according to the suggestions you have provided.\n",
    "\n",
    "Please provide your reasoning in a few sentences.\n",
    "\n",
    "Here is the post for context:\n",
    "\n",
    "{chat_response}\n",
    "\"\"\"\n",
    "\n",
    "compile = client.chat.completions.create(\n",
    "  model = \"o3-mini\",\n",
    "  messages = [\n",
    "    { \"role\": \"system\", \"content\": system_message },\n",
    "    { \"role\": \"user\", \"content\": reasoning_prompt }\n",
    "  ]\n",
    ")"
   ]
  },
  {
   "cell_type": "code",
   "execution_count": 14,
   "id": "c6b0d893",
   "metadata": {},
   "outputs": [
    {
     "name": "stdout",
     "output_type": "stream",
     "text": [
      "[Choice(finish_reason='stop', index=0, logprobs=None, message=ChatCompletionMessage(content='Reasoning:\\nThe post uses clear bullet points, engaging emojis, and bold text to highlight key developments, which makes it visually appealing and easy to scan—a positive tactic for LinkedIn readers. However, while the brevity is effective for those already acquainted with AI, it assumes familiarity with core concepts and lacks context for newcomers. Adding brief explanations or implications of each development can help those with little to no knowledge of AI better understand the significance, making the post more accessible to a broader professional audience.\\n\\nRevised Post:\\n-------------------------------------------------\\nHeadline: AI Innovations Unveiled: What You Need to Know\\n\\n1. EU\\'s AI Code of Practice: The EU has introduced voluntary guidelines aimed at boosting transparency and safety in AI, setting the stage for stricter regulations with the upcoming AI Act in 2025. This move is expected to shape future AI developments across industries.\\n\\n2. xAI\\'s Grok 4 Release: Elon Musk’s xAI has launched Grok 4, touted as the \"smartest AI\" yet, designed to handle complex tasks more efficiently. This breakthrough could impact various sectors by enhancing automation and decision-making.\\n\\n3. Grok in Tesla Vehicles: Grok AI is set to be integrated into Tesla’s vehicles next week. This integration represents an important step in merging cutting-edge AI with automotive technology for smarter and safer driving experiences.\\n\\n4. Anthropic’s Economic Challenge: In a recent experiment, Anthropic’s AI agent, Claudius, had difficulty with economic reasoning during a vending machine test. This highlights ongoing challenges in AI understanding of real-world scenarios.\\n\\n5. Google’s Veo 3 Tool: Google has rolled out Veo 3, a tool that transforms still images into short videos with sound. Although currently available to select users, this tool could revolutionize content creation for businesses and professionals alike.\\n\\n6. Legal Developments in Tech: A lawsuit against a former executive at iyO Inc. underscores the growing legal complexities in the tech sector, reminding us of the importance of data security and confidentiality in today’s dynamic environment.\\n\\nStay tuned for more updates as these AI advancements continue to reshape our industry! #AI #Innovation #Technology\\n-------------------------------------------------\\n\\nThis version provides added context and explanations, making it more accessible for professionals who may be new to AI while still engaging those familiar with industry trends.', refusal=None, role='assistant', annotations=[], audio=None, function_call=None, tool_calls=None))]\n"
     ]
    },
    {
     "data": {
      "text/markdown": [
       "Reasoning:\n",
       "The post uses clear bullet points, engaging emojis, and bold text to highlight key developments, which makes it visually appealing and easy to scan—a positive tactic for LinkedIn readers. However, while the brevity is effective for those already acquainted with AI, it assumes familiarity with core concepts and lacks context for newcomers. Adding brief explanations or implications of each development can help those with little to no knowledge of AI better understand the significance, making the post more accessible to a broader professional audience.\n",
       "\n",
       "Revised Post:\n",
       "-------------------------------------------------\n",
       "Headline: AI Innovations Unveiled: What You Need to Know\n",
       "\n",
       "1. EU's AI Code of Practice: The EU has introduced voluntary guidelines aimed at boosting transparency and safety in AI, setting the stage for stricter regulations with the upcoming AI Act in 2025. This move is expected to shape future AI developments across industries.\n",
       "\n",
       "2. xAI's Grok 4 Release: Elon Musk’s xAI has launched Grok 4, touted as the \"smartest AI\" yet, designed to handle complex tasks more efficiently. This breakthrough could impact various sectors by enhancing automation and decision-making.\n",
       "\n",
       "3. Grok in Tesla Vehicles: Grok AI is set to be integrated into Tesla’s vehicles next week. This integration represents an important step in merging cutting-edge AI with automotive technology for smarter and safer driving experiences.\n",
       "\n",
       "4. Anthropic’s Economic Challenge: In a recent experiment, Anthropic’s AI agent, Claudius, had difficulty with economic reasoning during a vending machine test. This highlights ongoing challenges in AI understanding of real-world scenarios.\n",
       "\n",
       "5. Google’s Veo 3 Tool: Google has rolled out Veo 3, a tool that transforms still images into short videos with sound. Although currently available to select users, this tool could revolutionize content creation for businesses and professionals alike.\n",
       "\n",
       "6. Legal Developments in Tech: A lawsuit against a former executive at iyO Inc. underscores the growing legal complexities in the tech sector, reminding us of the importance of data security and confidentiality in today’s dynamic environment.\n",
       "\n",
       "Stay tuned for more updates as these AI advancements continue to reshape our industry! #AI #Innovation #Technology\n",
       "-------------------------------------------------\n",
       "\n",
       "This version provides added context and explanations, making it more accessible for professionals who may be new to AI while still engaging those familiar with industry trends."
      ],
      "text/plain": [
       "<IPython.core.display.Markdown object>"
      ]
     },
     "metadata": {},
     "output_type": "display_data"
    }
   ],
   "source": [
    "print(compile.choices)\n",
    "reasoning_response = compile.choices[0].message.content\n",
    "display(Markdown(reasoning_response))"
   ]
  }
 ],
 "metadata": {
  "kernelspec": {
   "display_name": "AI-Engineering-Essentials",
   "language": "python",
   "name": "python3"
  },
  "language_info": {
   "codemirror_mode": {
    "name": "ipython",
    "version": 3
   },
   "file_extension": ".py",
   "mimetype": "text/x-python",
   "name": "python",
   "nbconvert_exporter": "python",
   "pygments_lexer": "ipython3",
   "version": "3.11.4"
  }
 },
 "nbformat": 4,
 "nbformat_minor": 5
}
