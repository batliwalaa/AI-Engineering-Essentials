{
 "cells": [
  {
   "cell_type": "markdown",
   "id": "99bb44c5",
   "metadata": {},
   "source": [
    "# Social Media Post Generator - SERPAPI + Gemini"
   ]
  },
  {
   "cell_type": "markdown",
   "id": "8c32d4d4",
   "metadata": {},
   "source": [
    "### Import Libraries and API keys"
   ]
  },
  {
   "cell_type": "code",
   "execution_count": null,
   "id": "ce0b5982",
   "metadata": {},
   "outputs": [],
   "source": [
    "import os\n",
    "from google import genai\n",
    "from serpapi import GoogleSearch\n",
    "from dotenv import load_dotenv\n",
    "from IPython.display import display, Markdown\n",
    "\n",
    "load_dotenv()\n",
    "\n",
    "SERPAPI_API_KEY = os.getenv('SERPAPI_API_KEY')\n",
    "if SERPAPI_API_KEY is None:\n",
    "  raise Exception('Missing Serpapi api key')\n",
    "\n",
    "GEMINI_API_KEY = os.getenv('GEMINI_API_KEY')\n",
    "if GEMINI_API_KEY is None:\n",
    "  raise Exception('Missing Gemini api key')"
   ]
  },
  {
   "cell_type": "markdown",
   "id": "3003559f",
   "metadata": {},
   "source": [
    "### Setup Gemini"
   ]
  },
  {
   "cell_type": "code",
   "execution_count": 18,
   "id": "3d333ca9",
   "metadata": {},
   "outputs": [],
   "source": [
    "client = genai.Client(api_key=GEMINI_API_KEY)"
   ]
  },
  {
   "cell_type": "markdown",
   "id": "92afd87a",
   "metadata": {},
   "source": [
    "### Fetch news from SERPAPI"
   ]
  },
  {
   "cell_type": "code",
   "execution_count": 19,
   "id": "50126040",
   "metadata": {},
   "outputs": [],
   "source": [
    "def fetch_ai_news_serpapi(query = \"latest AI news July 2025\", num_results = 5):\n",
    "  params = {\n",
    "    \"q\": query,\n",
    "    \"location\": \"United Kingdom\",\n",
    "    \"hl\": \"en\",\n",
    "    \"gl\": \"gb\",\n",
    "    \"api_key\": SERPAPI_API_KEY,\n",
    "    \"num\": num_results,\n",
    "    \"engine\": \"google\"\n",
    "  }\n",
    "\n",
    "  search = GoogleSearch(params)\n",
    "  results = search.get_dict()\n",
    "\n",
    "  return results.get(\"organic_results\", [])[:num_results]"
   ]
  },
  {
   "cell_type": "markdown",
   "id": "b5aa0568",
   "metadata": {},
   "source": [
    "### Build reasoning prompt"
   ]
  },
  {
   "cell_type": "code",
   "execution_count": 20,
   "id": "d66b1f9b",
   "metadata": {},
   "outputs": [],
   "source": [
    "def build_reasoning_prompt(news_items):\n",
    "  formatted = \"\"\n",
    "  for i, item in enumerate(news_items, 1):\n",
    "    title = item.get(\"title\", \"\")\n",
    "    snippet = item.get(\"snippet\", \"\")\n",
    "    link = item.get(\"link\", \"\")\n",
    "    formatted += f\"{i}. {title}\\n{snippet}\\nURL: {link}\\n\\n\"\n",
    "\n",
    "  return f\"\"\"\n",
    "You are an expert in AI communication and social media perception.\n",
    "\n",
    "Given the following AI-related news articles:\n",
    "\n",
    "{formatted}\n",
    "\n",
    "For each:\n",
    "- Summarize the core topic in 1 sentence.\n",
    "- Say in 1 sentence whether this is effective for LinkedIn and why or why not.\n",
    "- Give a rating out of 10 for LinkedIn impact.\n",
    "\n",
    "Finally, recommend the top 2 stories to post on LinkedIn and explain why.\n",
    "  \"\"\".strip()"
   ]
  },
  {
   "cell_type": "markdown",
   "id": "a053afda",
   "metadata": {},
   "source": [
    "### Main pipeline"
   ]
  },
  {
   "cell_type": "code",
   "execution_count": 21,
   "id": "00d1e52c",
   "metadata": {},
   "outputs": [],
   "source": [
    "def summarize_and_rank_news():\n",
    "  print(\"🔍 Fetching news...\")\n",
    "\n",
    "  news_items = fetch_ai_news_serpapi()\n",
    "\n",
    "  if not news_items:\n",
    "    print(\"No new results.\")\n",
    "    return\n",
    "  \n",
    "  print(\"\\n\\n\")\n",
    "  print(news_items)\n",
    "  print(\"\\n\\n\")\n",
    "\n",
    "  prompt = build_reasoning_prompt(news_items)\n",
    "\n",
    "  print(\"\\nSending to Gemini...\")\n",
    "  response = client.models.generate_content(\n",
    "    model=\"gemini-1.5-flash\",  # or \"gemini-pro\"\n",
    "    contents=prompt\n",
    "  )\n",
    "\n",
    "  print(\"\\nGemini Response:\\n\")\n",
    "  display(Markdown(response.text.strip()))"
   ]
  },
  {
   "cell_type": "markdown",
   "id": "099b6462",
   "metadata": {},
   "source": [
    "### Run pipeline"
   ]
  },
  {
   "cell_type": "code",
   "execution_count": 22,
   "id": "04a892cf",
   "metadata": {},
   "outputs": [
    {
     "name": "stdout",
     "output_type": "stream",
     "text": [
      "🔍 Fetching news...\n",
      "\n",
      "\n",
      "\n",
      "[{'position': 1, 'title': 'AI News | Latest AI News, Analysis & Events', 'link': 'https://www.artificialintelligence-news.com/', 'redirect_link': 'https://www.google.com/url?sa=t&source=web&rct=j&opi=89978449&url=https://www.artificialintelligence-news.com/&ved=2ahUKEwiipbCe0cWOAxXCF1kFHT2YHEwQFnoECBcQAQ', 'displayed_link': 'https://www.artificialintelligence-news.com', 'favicon': 'https://serpapi.com/searches/6879d62273ae606f8a40d46e/images/5915a2277175e5004729373c564d91bb85050c50170eb89abdb689e7f1235f9d.png', 'snippet': \"AGI. July 17, 2025. Apple loses key AI leader to Meta · Apple. July 8, 2025. Flood of interest in Europe's AI Gigafactories plan · Artificial Intelligence. July ...\", 'snippet_highlighted_words': ['Apple loses key AI leader to Meta'], 'sitelinks': {'inline': [{'title': 'News', 'link': 'https://www.artificialintelligence-news.com/artificial-intelligence-news/'}, {'title': 'AI & Big Data Expo Europe 2025', 'link': 'https://www.artificialintelligence-news.com/events/ai-big-data-expo-europe-2025-2/'}, {'title': 'Conversations with AI: Education', 'link': 'https://www.artificialintelligence-news.com/news/conversations-with-ai-education-implications-and-future/'}, {'title': 'AGI', 'link': 'https://www.artificialintelligence-news.com/categories/agi/'}]}, 'source': 'AI News'}, {'position': 2, 'title': 'The latest AI news we announced in June', 'link': 'https://blog.google/technology/ai/google-ai-updates-june-2025/', 'redirect_link': 'https://www.google.com/url?sa=t&source=web&rct=j&opi=89978449&url=https://blog.google/technology/ai/google-ai-updates-june-2025/&ved=2ahUKEwiipbCe0cWOAxXCF1kFHT2YHEwQFnoECB0QAQ', 'displayed_link': 'https://blog.google › ai › google-ai-updates-june-2025', 'favicon': 'https://serpapi.com/searches/6879d62273ae606f8a40d46e/images/5915a2277175e5004729373c564d91bb9d80b848675c495fa413da0ef9fd7da1.png', 'date': '2 Jul 2025', 'snippet': \"Here's a recap of some of our biggest AI updates from June, including more ways to search with AI Mode, a new way to share your NotebookLM notebooks publicly.\", 'snippet_highlighted_words': [\"Here's a recap of some of our biggest AI updates from June\"], 'source': 'The Keyword'}, {'position': 3, 'title': 'Latest AI Breakthroughs and News: May, June, July 2025', 'link': 'https://www.crescendo.ai/news/latest-ai-news-and-updates', 'redirect_link': 'https://www.google.com/url?sa=t&source=web&rct=j&opi=89978449&url=https://www.crescendo.ai/news/latest-ai-news-and-updates&ved=2ahUKEwiipbCe0cWOAxXCF1kFHT2YHEwQFnoECBMQAQ', 'displayed_link': 'https://www.crescendo.ai › news › latest-ai-news-and-u...', 'favicon': 'https://serpapi.com/searches/6879d62273ae606f8a40d46e/images/5915a2277175e5004729373c564d91bbe9726ca5fa23c117fd2fed3461bbebc9.jpeg', 'snippet': 'Summary: OpenAI unveiled GPT-4.5, the newest iteration of its AI language model, focusing heavily on improved emotional intelligence (EQ). The upgrade ...', 'snippet_highlighted_words': ['AI'], 'source': 'Crescendo.ai'}, {'position': 4, 'title': 'Artificial intelligence (AI)', 'link': 'https://www.theguardian.com/technology/artificialintelligenceai', 'redirect_link': 'https://www.google.com/url?sa=t&source=web&rct=j&opi=89978449&url=https://www.theguardian.com/technology/artificialintelligenceai&ved=2ahUKEwiipbCe0cWOAxXCF1kFHT2YHEwQFnoECDAQAQ', 'displayed_link': 'https://www.theguardian.com › technology › artificialin...', 'favicon': 'https://serpapi.com/searches/6879d62273ae606f8a40d46e/images/5915a2277175e5004729373c564d91bbb5655d23ec67fc8b49b10b25c2f04221.png', 'snippet': '17 July 2025 · OpenAI launches personal assistant capable of controlling files and web browsers · UK switches on AI supercomputer that will help spot sick cows ...', 'snippet_highlighted_words': ['17 July 2025'], 'source': 'The Guardian'}]\n",
      "\n",
      "\n",
      "\n",
      "\n",
      "Sending to Gemini...\n",
      "\n",
      "Gemini Response:\n",
      "\n"
     ]
    },
    {
     "data": {
      "text/markdown": [
       "Here's an analysis of the provided AI news articles, tailored for LinkedIn effectiveness:\n",
       "\n",
       "**Article 1: AI News | Latest AI News, Analysis & Events**\n",
       "\n",
       "* **Core Topic:**  The article provides a roundup of recent AI news, including personnel changes at major tech companies and developments in European AI infrastructure.\n",
       "* **LinkedIn Effectiveness:** This is moderately effective for LinkedIn as it provides a broad overview of industry news, relevant to professionals in tech and related fields, but lacks specific actionable insights or company-centric focus.\n",
       "* **LinkedIn Impact Rating:** 6/10\n",
       "\n",
       "**Article 2: The latest AI news we announced in June**\n",
       "\n",
       "* **Core Topic:** Google summarizes its AI advancements from June 2025, highlighting improvements to search and notebook sharing functionalities.\n",
       "* **LinkedIn Effectiveness:** This is less effective for LinkedIn unless the user is explicitly connected to Google or works directly with its AI products.  It's self-promotional and lacks broad industry relevance.\n",
       "* **LinkedIn Impact Rating:** 4/10\n",
       "\n",
       "**Article 3: Latest AI Breakthroughs and News: May, June, July 2025**\n",
       "\n",
       "* **Core Topic:** This article summarizes key AI breakthroughs from the past few months, focusing on OpenAI's GPT-4.5 and its improved emotional intelligence.\n",
       "* **LinkedIn Effectiveness:** This is quite effective for LinkedIn as it discusses a significant technological advancement relevant to a broad audience interested in AI and its potential impact across industries.  It sparks discussion.\n",
       "* **LinkedIn Impact Rating:** 8/10\n",
       "\n",
       "**Article 4: Artificial intelligence (AI)**\n",
       "\n",
       "* **Core Topic:**  The Guardian's article covers various recent AI developments, including the release of a personal AI assistant and the launch of an AI supercomputer for agricultural applications.\n",
       "* **LinkedIn Effectiveness:** This is effective for LinkedIn because it provides diverse examples of AI's real-world applications, sparking engagement across different professional sectors.  It showcases both consumer and industrial impact.\n",
       "* **LinkedIn Impact Rating:** 7/10\n",
       "\n",
       "\n",
       "**Top 2 Recommendations for LinkedIn:**\n",
       "\n",
       "1. **Article 3:** The OpenAI GPT-4.5 announcement is a significant event with broad industry implications.  Posting about this on LinkedIn will generate discussions about emotional intelligence in AI, its ethical considerations, and potential applications in various professional settings.  It's a \"hot\" topic generating interest.\n",
       "\n",
       "2. **Article 4:** The Guardian article offers a broader range of AI applications, showcasing its versatility and impact across different sectors.  This provides a more balanced perspective and may resonate with a wider audience on LinkedIn, engaging professionals from various industries.\n",
       "\n",
       "\n",
       "**Reasoning:**  Both articles 3 and 4 offer news that's likely to generate meaningful discussions and engagement on LinkedIn, unlike the more narrowly focused or self-promotional articles.  They offer a balance of impactful technological advancements and diverse applications that are more likely to be viewed as professional news items compared to an internal company announcement."
      ],
      "text/plain": [
       "<IPython.core.display.Markdown object>"
      ]
     },
     "metadata": {},
     "output_type": "display_data"
    }
   ],
   "source": [
    "if __name__ == \"__main__\":\n",
    "    summarize_and_rank_news()"
   ]
  }
 ],
 "metadata": {
  "kernelspec": {
   "display_name": "AI-Engineering-Essentials",
   "language": "python",
   "name": "python3"
  },
  "language_info": {
   "codemirror_mode": {
    "name": "ipython",
    "version": 3
   },
   "file_extension": ".py",
   "mimetype": "text/x-python",
   "name": "python",
   "nbconvert_exporter": "python",
   "pygments_lexer": "ipython3",
   "version": "3.11.4"
  }
 },
 "nbformat": 4,
 "nbformat_minor": 5
}
