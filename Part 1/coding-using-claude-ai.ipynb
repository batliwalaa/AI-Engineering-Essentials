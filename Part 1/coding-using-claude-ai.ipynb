{
 "cells": [
  {
   "cell_type": "markdown",
   "id": "71a98f82",
   "metadata": {},
   "source": [
    "# Coding with Claude"
   ]
  },
  {
   "cell_type": "markdown",
   "id": "4b08495f",
   "metadata": {},
   "source": [
    "### Import Libraries"
   ]
  },
  {
   "cell_type": "code",
   "execution_count": 1,
   "id": "df34fa75",
   "metadata": {},
   "outputs": [],
   "source": [
    "import os\n",
    "import anthropic\n",
    "from dotenv import load_dotenv\n",
    "from IPython.display import Markdown, display\n",
    "\n",
    "load_dotenv()\n",
    "\n",
    "ANTHROPIC_API_KEY = os.getenv('ANTHROPIC_API_KEY')\n",
    "\n",
    "if ANTHROPIC_API_KEY is None:\n",
    "  raise Exception('Missing anthropic api key')"
   ]
  },
  {
   "cell_type": "markdown",
   "id": "d3ba4521",
   "metadata": {},
   "source": [
    "### Call the api"
   ]
  },
  {
   "cell_type": "markdown",
   "id": "2d60972e",
   "metadata": {},
   "source": [
    "##### What is temperature\n",
    "- Low (0.1 - 0.4) - More detrministic\n",
    "- Medium (0.5 - 0.7) - Balanced\n",
    "- High (0.8 - 1.0) - Very creative, verbose (can be off tone)"
   ]
  },
  {
   "cell_type": "code",
   "execution_count": 4,
   "id": "054d0997",
   "metadata": {},
   "outputs": [],
   "source": [
    "client = anthropic.Anthropic()\n",
    "\n",
    "message = client.messages.create(\n",
    "  model = 'claude-3-7-sonnet-20250219',\n",
    "  max_tokens = 1000,\n",
    "  temperature = 1,\n",
    "  system = 'You are a world-class poet. Respond only with short poems.',\n",
    "  messages = [\n",
    "    {\n",
    "        \"role\": \"user\",\n",
    "        \"content\": [\n",
    "            {\n",
    "                \"type\": \"text\",\n",
    "                \"text\": \"Why is the ocean salty?\"\n",
    "            }\n",
    "        ]\n",
    "    }\n",
    "  ]\n",
    ")\n",
    "\n",
    "responseContent = message.content"
   ]
  },
  {
   "cell_type": "code",
   "execution_count": 6,
   "id": "645b7f9a",
   "metadata": {},
   "outputs": [
    {
     "name": "stdout",
     "output_type": "stream",
     "text": [
      "# Salt of the Deep\n",
      "\n",
      "Tears of the earth,\n",
      "Minerals flowing free,\n",
      "Rivers carry secrets\n",
      "To the ancient sea.\n",
      "\n",
      "Eons of erosion,\n",
      "Time's patient alchemy,\n",
      "The ocean keeps collecting\n",
      "What land sets free.\n"
     ]
    }
   ],
   "source": [
    "print(responseContent[0].text)"
   ]
  },
  {
   "cell_type": "markdown",
   "id": "725d16ec",
   "metadata": {},
   "source": [
    "### Customize the prompt"
   ]
  },
  {
   "cell_type": "markdown",
   "id": "93646afd",
   "metadata": {},
   "source": [
    "##### Customer service representative"
   ]
  },
  {
   "cell_type": "code",
   "execution_count": 12,
   "id": "28c6523a",
   "metadata": {},
   "outputs": [],
   "source": [
    "complaint = \"You have overcharged me for this product. I demand a refund\""
   ]
  },
  {
   "cell_type": "code",
   "execution_count": 13,
   "id": "39f1042f",
   "metadata": {},
   "outputs": [],
   "source": [
    "system_message = \"You are an expert customer service representative, Respond thoughfully and informatively.\"\n",
    "\n",
    "prompt = f\"\"\" \n",
    "Write a brief professional email response to an unhappy customer with the following issue:\n",
    "\n",
    "{complaint}\n",
    "\n",
    "Requirements:\n",
    "- Keep under 150 words\n",
    "- Maintain a professional but empathetic tone\n",
    "- Acknowledge the issue clearly\n",
    "- Offer a specific solution\n",
    "- Include a follow-up action\n",
    "\"\"\""
   ]
  },
  {
   "cell_type": "code",
   "execution_count": 14,
   "id": "066e1cef",
   "metadata": {},
   "outputs": [],
   "source": [
    "message = client.messages.create(\n",
    "    model=\"claude-3-7-sonnet-20250219\",\n",
    "    max_tokens=1000,\n",
    "    temperature=0.7,\n",
    "    system=system_message,\n",
    "    messages=[\n",
    "        {\n",
    "            \"role\": \"user\",\n",
    "            \"content\": [\n",
    "                {\n",
    "                    \"type\": \"text\",\n",
    "                    \"text\": prompt\n",
    "                }\n",
    "            ]\n",
    "        }\n",
    "    ]\n",
    ")\n",
    "\n",
    "complaintEMailResponseContent = message.content[0]"
   ]
  },
  {
   "cell_type": "code",
   "execution_count": 15,
   "id": "69fe72e5",
   "metadata": {},
   "outputs": [
    {
     "data": {
      "text/markdown": [
       "# Subject: Regarding Your Refund Request - We're Here to Help\n",
       "\n",
       "Dear Valued Customer,\n",
       "\n",
       "Thank you for bringing this overcharging issue to our attention. I sincerely apologize for the frustration this has caused you.\n",
       "\n",
       "I've reviewed your account and understand your concern completely. We take billing accuracy very seriously, and I'm committed to resolving this promptly for you.\n",
       "\n",
       "I've initiated a full refund for the overcharged amount, which should appear in your account within 3-5 business days. Additionally, I'd like to offer you a 10% discount on your next purchase as a gesture of goodwill.\n",
       "\n",
       "To ensure this doesn't happen again, our billing team will conduct a thorough review of your account.\n",
       "\n",
       "Could you please confirm receipt of the refund by the end of next week? If you don't see it by then, please contact me directly at support@company.com.\n",
       "\n",
       "Sincerely,\n",
       "Customer Service Representative"
      ],
      "text/plain": [
       "<IPython.core.display.Markdown object>"
      ]
     },
     "metadata": {},
     "output_type": "display_data"
    }
   ],
   "source": [
    "display(Markdown(complaintEMailResponseContent.text))"
   ]
  },
  {
   "cell_type": "markdown",
   "id": "a687ab84",
   "metadata": {},
   "source": [
    "### Rate the response using a response model"
   ]
  },
  {
   "cell_type": "code",
   "execution_count": 16,
   "id": "6543ecfa",
   "metadata": {},
   "outputs": [],
   "source": [
    "system_message = \"You are an expert customer service representative. Evaluate the email response to be sent to a customer complaint.\"\n",
    "\n",
    "reasoning_prompt = f\"\"\"\n",
    "A customer has mad a complaint\n",
    "\n",
    "{complaint}\n",
    "\n",
    "Evaluate this customer service email response\n",
    "\n",
    "{complaintEMailResponseContent.text}\n",
    "\n",
    "Rate each category with ONE LINE explanation\n",
    "\n",
    "1. Professionalism (1-10): [Score] - [One-line explanation]\n",
    "2. Empathy (1-10): [Score] - [One-line explanation]\n",
    "3. Problem Resolution (1-10): [Score] - [One-line explanation]\n",
    "4. Clarity (1-10): [Score] - [One-line explanation]\n",
    "5. Brand Representation (1-10): [Score] - [One-line explanation]\n",
    "\n",
    "TOTAL SCORE: [X/100]\n",
    "\"\"\""
   ]
  },
  {
   "cell_type": "code",
   "execution_count": 17,
   "id": "5d2cb8af",
   "metadata": {},
   "outputs": [
    {
     "name": "stdout",
     "output_type": "stream",
     "text": [
      "[ThinkingBlock(signature='ErUBCkYIBRgCIkA4DNcpn8M9/PV/aDLPgB1RZ5skhW/718UjRPV3ilkEhxAXKccF5l7WSWk8e1u466OoD+To4e2gqqQI5Y2bkAOeEgwUv1SH7V9I8+vjVaQaDNzPde1IygywKkuAlSIwo9k1qsVhx2LXZL9+u0r7LGfno8qie0XvLkE3/dArheExaWLjOppQOmgKih54vdG+Kh1eoCSC9lnerSYLpVouxQ/Hn0ZSjuucjKlDmmiaTRgC', thinking='Let me evaluate this customer service email response based on the five criteria requested:\\n\\n1. Professionalism (1-10):\\n- The email uses a professional tone and language\\n- Has a clear subject line and formal greeting/closing\\n- Uses proper grammar and punctuation\\n- Avoids defensive language\\n- Takes responsibility for the issue\\n- Includes contact information for follow-up\\nI would rate this a 9/10. The response is highly professional, well-structured, and maintains appropriate business language throughout.\\n\\n2. Empathy (1-10):\\n- Begins with an apology acknowledging the customer\\'s frustration\\n- Shows understanding of the customer\\'s concern (\"I understand your concern completely\")\\n- Takes the complaint seriously (\"We take billing accuracy very seriously\")\\n- Offers a goodwill gesture (10% discount) beyond just fixing the problem\\nI would rate this an 8/10. The response shows good empathy, but could perhaps acknowledge the inconvenience caused a bit more specifically.\\n\\n3. Problem Resolution (1-10):\\n- Clearly states that a refund has been initiated\\n- Provides a timeframe for the refund (3-5 business days)\\n- Offers additional compensation (10% discount)\\n- Mentions a plan to prevent recurrence (\"our billing team will conduct a thorough review\")\\n- Requests confirmation of resolution and provides a follow-up path\\nI would rate this a 9/10. The resolution is comprehensive and includes preventive measures.\\n\\n4. Clarity (1-10):\\n- Clear explanation of what action has been taken\\n- Specific timeframe provided\\n- Next steps are outlined\\n- Contact information is provided\\n- Request for confirmation is clear\\nI would rate this a 9/10. The message is straightforward and easy to understand.\\n\\n5. Brand Representation (1-10):\\n- Maintains a positive tone despite addressing a complaint\\n- Shows the company values customer feedback\\n- Demonstrates commitment to fixing issues promptly\\n- Shows generosity with the additional discount\\n- Emphasizes quality control and improvement\\nI would rate this an 8/10. The response represents the brand well as customer-focused and responsive.\\n\\nTotal score calculation:\\nIf I simply add the scores: 9 + 8 + 9 + 9 + 8 = 43/50\\nIf we\\'re converting to a score out of 100: (43/50) × 100 = 86/100\\n\\nHowever, the prompt asks for a total out of 100, so I should consider each category worth 20 points maximum:\\n(9/10×20) + (8/10×20) + (9/10×20) + (9/10×20) + (8/10×20) = 18 + 16 + 18 + 18 + 16 = 86/100', type='thinking'), TextBlock(citations=None, text=\"# Evaluation of Customer Service Email Response\\n\\n1. Professionalism (1-10): 9 - Maintains appropriate business tone with proper structure, grammar, and a clear subject line that addresses the issue directly.\\n\\n2. Empathy (1-10): 8 - Opens with a sincere apology and acknowledges customer frustration, though could be slightly more specific about understanding the impact of overcharging.\\n\\n3. Problem Resolution (1-10): 9 - Provides clear action (refund initiated), timeline, additional compensation, preventive measures, and follow-up instructions.\\n\\n4. Clarity (1-10): 9 - Communicates clearly what has been done, what will happen next, and includes specific timeframes and contact information.\\n\\n5. Brand Representation (1-10): 8 - Demonstrates company values through prompt resolution, goodwill gesture, and commitment to improvement.\\n\\nTOTAL SCORE: 86/100\\n\\nThis is an excellent response that addresses the customer's complaint directly while maintaining professionalism. The refund process is clearly explained with specific timelines, and the additional discount shows the company values the customer relationship beyond just fixing the immediate problem. The response also builds in accountability by requesting confirmation and offering direct contact information.\", type='text')]\n"
     ]
    }
   ],
   "source": [
    "message = client.messages.create(\n",
    "    model=\"claude-3-7-sonnet-20250219\",\n",
    "    max_tokens=5000,\n",
    "    thinking={\n",
    "        \"type\": \"enabled\",\n",
    "        \"budget_tokens\": 3000\n",
    "    },\n",
    "    temperature=1,\n",
    "    system=system_message,\n",
    "    messages=[\n",
    "        {\n",
    "            \"role\": \"user\",\n",
    "            \"content\": [\n",
    "                {\n",
    "                    \"type\": \"text\",\n",
    "                    \"text\": reasoning_prompt\n",
    "                }\n",
    "            ]\n",
    "        }\n",
    "    ]\n",
    ")\n",
    "reasoning_response = message.content\n",
    "print(reasoning_response)"
   ]
  },
  {
   "cell_type": "code",
   "execution_count": 18,
   "id": "f2dc41d7",
   "metadata": {},
   "outputs": [
    {
     "data": {
      "text/markdown": [
       "Let me evaluate this customer service email response based on the five criteria requested:\n",
       "\n",
       "1. Professionalism (1-10):\n",
       "- The email uses a professional tone and language\n",
       "- Has a clear subject line and formal greeting/closing\n",
       "- Uses proper grammar and punctuation\n",
       "- Avoids defensive language\n",
       "- Takes responsibility for the issue\n",
       "- Includes contact information for follow-up\n",
       "I would rate this a 9/10. The response is highly professional, well-structured, and maintains appropriate business language throughout.\n",
       "\n",
       "2. Empathy (1-10):\n",
       "- Begins with an apology acknowledging the customer's frustration\n",
       "- Shows understanding of the customer's concern (\"I understand your concern completely\")\n",
       "- Takes the complaint seriously (\"We take billing accuracy very seriously\")\n",
       "- Offers a goodwill gesture (10% discount) beyond just fixing the problem\n",
       "I would rate this an 8/10. The response shows good empathy, but could perhaps acknowledge the inconvenience caused a bit more specifically.\n",
       "\n",
       "3. Problem Resolution (1-10):\n",
       "- Clearly states that a refund has been initiated\n",
       "- Provides a timeframe for the refund (3-5 business days)\n",
       "- Offers additional compensation (10% discount)\n",
       "- Mentions a plan to prevent recurrence (\"our billing team will conduct a thorough review\")\n",
       "- Requests confirmation of resolution and provides a follow-up path\n",
       "I would rate this a 9/10. The resolution is comprehensive and includes preventive measures.\n",
       "\n",
       "4. Clarity (1-10):\n",
       "- Clear explanation of what action has been taken\n",
       "- Specific timeframe provided\n",
       "- Next steps are outlined\n",
       "- Contact information is provided\n",
       "- Request for confirmation is clear\n",
       "I would rate this a 9/10. The message is straightforward and easy to understand.\n",
       "\n",
       "5. Brand Representation (1-10):\n",
       "- Maintains a positive tone despite addressing a complaint\n",
       "- Shows the company values customer feedback\n",
       "- Demonstrates commitment to fixing issues promptly\n",
       "- Shows generosity with the additional discount\n",
       "- Emphasizes quality control and improvement\n",
       "I would rate this an 8/10. The response represents the brand well as customer-focused and responsive.\n",
       "\n",
       "Total score calculation:\n",
       "If I simply add the scores: 9 + 8 + 9 + 9 + 8 = 43/50\n",
       "If we're converting to a score out of 100: (43/50) × 100 = 86/100\n",
       "\n",
       "However, the prompt asks for a total out of 100, so I should consider each category worth 20 points maximum:\n",
       "(9/10×20) + (8/10×20) + (9/10×20) + (9/10×20) + (8/10×20) = 18 + 16 + 18 + 18 + 16 = 86/100"
      ],
      "text/plain": [
       "<IPython.core.display.Markdown object>"
      ]
     },
     "metadata": {},
     "output_type": "display_data"
    }
   ],
   "source": [
    "display(Markdown(reasoning_response[0].thinking))"
   ]
  },
  {
   "cell_type": "code",
   "execution_count": 20,
   "id": "7ff7ab41",
   "metadata": {},
   "outputs": [
    {
     "data": {
      "text/markdown": [
       "# Evaluation of Customer Service Email Response\n",
       "\n",
       "1. Professionalism (1-10): 9 - Maintains appropriate business tone with proper structure, grammar, and a clear subject line that addresses the issue directly.\n",
       "\n",
       "2. Empathy (1-10): 8 - Opens with a sincere apology and acknowledges customer frustration, though could be slightly more specific about understanding the impact of overcharging.\n",
       "\n",
       "3. Problem Resolution (1-10): 9 - Provides clear action (refund initiated), timeline, additional compensation, preventive measures, and follow-up instructions.\n",
       "\n",
       "4. Clarity (1-10): 9 - Communicates clearly what has been done, what will happen next, and includes specific timeframes and contact information.\n",
       "\n",
       "5. Brand Representation (1-10): 8 - Demonstrates company values through prompt resolution, goodwill gesture, and commitment to improvement.\n",
       "\n",
       "TOTAL SCORE: 86/100\n",
       "\n",
       "This is an excellent response that addresses the customer's complaint directly while maintaining professionalism. The refund process is clearly explained with specific timelines, and the additional discount shows the company values the customer relationship beyond just fixing the immediate problem. The response also builds in accountability by requesting confirmation and offering direct contact information."
      ],
      "text/plain": [
       "<IPython.core.display.Markdown object>"
      ]
     },
     "metadata": {},
     "output_type": "display_data"
    }
   ],
   "source": [
    "display(Markdown(reasoning_response[1].text))"
   ]
  },
  {
   "cell_type": "markdown",
   "id": "824a6063",
   "metadata": {},
   "source": [
    "### Improve rating - challenge (use empathy)"
   ]
  },
  {
   "cell_type": "markdown",
   "id": "2e1d6d92",
   "metadata": {},
   "source": [
    "- LLM's lack emotions\n",
    "- An empathy phrase front loads the emotional context\n",
    "- Improves attentivness and warmth in response\n",
    "- Improves scores for Empathy & Brand representation categories"
   ]
  },
  {
   "cell_type": "code",
   "execution_count": 25,
   "id": "12d960e8",
   "metadata": {},
   "outputs": [],
   "source": [
    "empathy_prompt = \"\"\"\n",
    "Generate 3 short, professional yet warm sentences that:\n",
    "- Show empathy for an overcharge issue\n",
    "- Reinforce brand values like trust and helpful service\n",
    "- Can be inserted into a customer service email\n",
    "\n",
    "Each should be under 25 words.\n",
    "\"\"\""
   ]
  },
  {
   "cell_type": "code",
   "execution_count": 29,
   "id": "295268b4",
   "metadata": {},
   "outputs": [],
   "source": [
    "empathy_result = client.messages.create(\n",
    "    model=\"claude-3-7-sonnet-20250219\",\n",
    "    temperature=0.7,\n",
    "    max_tokens=200,\n",
    "    system=\"You are a helpful assistant generating goodwill phrases.\",\n",
    "    messages=[\n",
    "        {\"role\": \"user\", \"content\": empathy_prompt}\n",
    "    ]\n",
    ")\n",
    "empathy_content = empathy_result.content"
   ]
  },
  {
   "cell_type": "code",
   "execution_count": null,
   "id": "6c8256b7",
   "metadata": {},
   "outputs": [],
   "source": [
    "def best_empathy(empathy_lines, client):\n",
    "    prompt = f\"\"\"\n",
    "    You are an expert in customer communication. These are three empathy statements generated for a customer support email.\n",
    "\n",
    "    Rate and rank each line for tone, relevance, and sincerity. Choose the BEST one that is professional, emotionally intelligent, and applicable to most situations.\n",
    "\n",
    "    Empathy Lines:\n",
    "    1. {empathy_lines[0]}\n",
    "    2. {empathy_lines[1]}\n",
    "    3. {empathy_lines[2]}\n",
    "\n",
    "    Respond in this format:\n",
    "\n",
    "    BEST: [1, 2, or 3] - [Copy of the selected line]\n",
    "    WHY: [One-line explanation why this line is the best]\n",
    "    \"\"\"\n",
    "\n",
    "    response = client.messages.create(\n",
    "        model=\"claude-3-7-sonnet-20250219\",\n",
    "        max_tokens=300,\n",
    "        temperature=0, # asking model to be deterministic and consistent, useful when selection, scoring, or comparison tasks,\n",
    "        system=\"You are a professional assistant helping select the best empathy tone for customer emails.\",\n",
    "        messages=[{\n",
    "            \"role\": \"user\",\n",
    "            \"content\": [{\"type\": \"text\", \"text\": prompt}]\n",
    "        }]\n",
    "    )\n",
    "\n",
    "    reply = response.content[0].text.strip()\n",
    "    print(response.content[0].text.strip())\n",
    "    if \"BEST:\" in reply:\n",
    "        best_line = reply.split(\"BEST:\")[1].split(\"WHY:\")[0].strip().split(\" - \")[-1].strip()\n",
    "        return best_line\n",
    "    else:\n",
    "        return empathy_lines[0]  # fallback\n"
   ]
  },
  {
   "cell_type": "code",
   "execution_count": 37,
   "id": "88a45b91",
   "metadata": {},
   "outputs": [
    {
     "name": "stdout",
     "output_type": "stream",
     "text": [
      "TextBlock(citations=None, text='1. We sincerely apologize for the overcharge and understand how frustrating unexpected charges can be on your account.\\n\\n2. At [Company], we value your trust above all else and are committed to making this right promptly.\\n\\n3. Our team is here to help resolve this issue quickly and ensure your experience reflects the reliable service you deserve.', type='text')\n",
      "1. We sincerely apologize for the overcharge and understand how frustrating unexpected charges can be on your account.\n",
      "\n",
      "2. At [Company], we value your trust above all else and are committed to making this right promptly.\n",
      "\n",
      "3. Our team is here to help resolve this issue quickly and ensure your experience reflects the reliable service you deserve.\n",
      "I notice there are only two empathy statements provided (numbered 1 and 2), rather than three as mentioned in the instructions.\n",
      "\n",
      "BEST: 1 - We sincerely apologize for the overcharge and understand how frustrating unexpected charges can be on your account.\n",
      "\n",
      "WHY: This statement directly acknowledges the specific issue (overcharge), offers a clear apology, and demonstrates emotional intelligence by recognizing the customer's likely emotional response (frustration), making it more personal and situation-specific than statement #2.\n"
     ]
    }
   ],
   "source": [
    "print(empathy_result.content[0])\n",
    "print(empathy_result.content[0].text)\n",
    "empathy_sentences = empathy_result.content[0].text.strip().split(\"\\n\")\n",
    "chosen_empathy = best_empathy(empathy_sentences, client)\n"
   ]
  },
  {
   "cell_type": "code",
   "execution_count": 38,
   "id": "fd35224d",
   "metadata": {},
   "outputs": [],
   "source": [
    "system_message = \"You are an expert customer service representative. Respond thoughtfully, empathetically, and clearly.\"\n",
    "\n",
    "prompt = f\"\"\" \n",
    "Write a professional and empathetic email response to a customer with the following complaint:\n",
    "\n",
    "{complaint}\n",
    "\n",
    "Requirements:\n",
    "- Keep under 150 words\n",
    "- Maintain a professional but empathetic tone\n",
    "- Acknowledge the issue clearly\n",
    "- Offer a specific solution\n",
    "- Include a follow-up action\n",
    "- Reinforce trust and brand commitment\n",
    "\n",
    "Incorporate the following empathy phrase near the beginning:\n",
    "\n",
    "\"{chosen_empathy}\"\n",
    "\"\"\""
   ]
  },
  {
   "cell_type": "code",
   "execution_count": 39,
   "id": "f06cf506",
   "metadata": {},
   "outputs": [],
   "source": [
    "message = client.messages.create(\n",
    "    model=\"claude-3-7-sonnet-20250219\",\n",
    "    max_tokens=1000,\n",
    "    temperature=0.7,\n",
    "    system=system_message,\n",
    "    messages=[\n",
    "        {\n",
    "            \"role\": \"user\",\n",
    "            \"content\": [\n",
    "                {\n",
    "                    \"type\": \"text\",\n",
    "                    \"text\": prompt\n",
    "                }\n",
    "            ]\n",
    "        }\n",
    "    ]\n",
    ")\n",
    "\n",
    "complaintEmailWithChosenEmpatyResponseContent = message.content[0]"
   ]
  },
  {
   "cell_type": "code",
   "execution_count": 40,
   "id": "f449ad38",
   "metadata": {},
   "outputs": [
    {
     "data": {
      "text/markdown": [
       "# Subject: Regarding Your Recent Overcharge Concern\n",
       "\n",
       "Dear Valued Customer,\n",
       "\n",
       "We sincerely apologize for the overcharge and understand how frustrating unexpected charges can be on your account. Thank you for bringing this matter to our attention.\n",
       "\n",
       "We've reviewed your account and confirmed the billing discrepancy. We will process a full refund for the overcharged amount, which should appear in your account within 3-5 business days.\n",
       "\n",
       "To prevent similar issues in the future, we're implementing additional verification steps in our billing process. We've also added a 10% discount to your next purchase as a gesture of our appreciation for your patience.\n",
       "\n",
       "Our customer service manager will follow up with you directly by tomorrow to confirm the refund has been processed.\n",
       "\n",
       "Your trust is important to us, and we're committed to making this right.\n",
       "\n",
       "Sincerely,\n",
       "\n",
       "Customer Service Team"
      ],
      "text/plain": [
       "<IPython.core.display.Markdown object>"
      ]
     },
     "metadata": {},
     "output_type": "display_data"
    }
   ],
   "source": [
    "display(Markdown(complaintEmailWithChosenEmpatyResponseContent.text))"
   ]
  },
  {
   "cell_type": "code",
   "execution_count": 41,
   "id": "776c5500",
   "metadata": {},
   "outputs": [],
   "source": [
    "system_message = \"You are an expert customer service representative. Evaluate the email response to be sent to a customer complaint.\"\n",
    "\n",
    "scoring_prompt = f\"\"\"\n",
    "A customer made the following complaint:\n",
    "\n",
    "{complaint}\n",
    "\n",
    "Evaluate the customer service email below:\n",
    "\n",
    "{complaintEmailWithChosenEmpatyResponseContent.text}\n",
    "\n",
    "Use the following rubric to score each category (1-10) with a one-line explanation:\n",
    "\n",
    "1. **Professionalism** – Is the tone appropriate and respectful?\n",
    "2. **Empathy** – Does the response show emotional awareness and understanding?\n",
    "3. **Problem Resolution** – Is there a specific, actionable solution?\n",
    "4. **Clarity** – Is the message easy to follow and well-structured?\n",
    "5. **Brand Representation** – Does the message reflect a helpful, trustworthy brand?\n",
    "\n",
    "Each explanation should be one concise sentence.\n",
    "\n",
    "TOTAL SCORE: [X/100]\n",
    "\"\"\""
   ]
  },
  {
   "cell_type": "code",
   "execution_count": 42,
   "id": "772cf641",
   "metadata": {},
   "outputs": [
    {
     "name": "stdout",
     "output_type": "stream",
     "text": [
      "[ThinkingBlock(signature='ErUBCkYIBRgCIkAaVVFjJOu/BBoOaLYs0AY5C1YuWhtePbZ+8sGzLfLy+xQhOEkwQF1fE9R/mhySdSVhLdymDf9EM+QlhDJ7kuLWEgwasM8yagaGVEvHx3AaDBH9Aj8BYhfgd68IIyIw7P2lkWNZmAOfOIwPyJwNVXRMhNlwTb6dxoM6UCPw3WQSt1jtGwndLuODexS/N+JFKh3zWjRmum/X7Jg2fPNlC3JsDYlG0cvlj3Jnp01YsRgC', thinking=\"Let me evaluate this customer service email response based on the provided rubric. I'll assess each category on a scale of 1-10 and provide a one-line explanation.\\n\\n1. **Professionalism** (1-10)\\nThe email uses a professional tone throughout, with appropriate salutation and closing. It avoids defensive language, maintains formality without being cold, and uses proper grammar and structure. The subject line is clear and professional. The tone is respectful and acknowledges the customer's concern without questioning their claim.\\nScore: 9/10\\n\\n2. **Empathy** (1-10)\\nThe response begins with an apology and acknowledges the customer's frustration with unexpected charges. It shows understanding of the inconvenience caused and validates the customer's feelings. The email goes beyond just acknowledging the issue by offering a gesture (10% discount) and promising follow-up, showing they value the customer's experience.\\nScore: 9/10\\n\\n3. **Problem Resolution** (1-10)\\nThe email clearly states they've confirmed the billing discrepancy and provides a specific solution (full refund) with a timeline (3-5 business days). It also mentions preventative measures for the future and provides a follow-up mechanism (manager will contact by tomorrow). The resolution is complete and addresses immediate concerns as well as future prevention.\\nScore: 10/10\\n\\n4. **Clarity** (1-10)\\nThe message is well-structured with clear paragraphs, each serving a purpose. It's concise yet complete, avoids jargon, and clearly communicates what happened and what will happen next. The timeline and expectations are explicitly stated.\\nScore: 10/10\\n\\n5. **Brand Representation** (1-10)\\nThe response portrays the company as responsible (by admitting the mistake), proactive (by implementing new verification steps), generous (by offering a discount), and customer-focused (by promising personal follow-up). It concludes with a commitment statement that reinforces brand values of trust and accountability.\\nScore: 10/10\\n\\nTo calculate the total score, I'll multiply each category score by 2 (since there are 5 categories and the total is out of 100):\\n- Professionalism: 9 × 2 = 18\\n- Empathy: 9 × 2 = 18\\n- Problem Resolution: 10 × 2 = 20\\n- Clarity: 10 × 2 = 20\\n- Brand Representation: 10 × 2 = 20\\n\\nTotal: 18 + 18 + 20 + 20 + 20 = 96/100\", type='thinking'), TextBlock(citations=None, text=\"# Email Response Evaluation\\n\\n1. **Professionalism**: 9/10\\n   The email maintains a formal yet approachable tone with proper structure and no defensive language.\\n\\n2. **Empathy**: 9/10\\n   The response immediately acknowledges frustration and validates the customer's feelings about the unexpected charge.\\n\\n3. **Problem Resolution**: 10/10\\n   Provides a specific solution (full refund) with clear timeline, preventative measures, and follow-up commitment.\\n\\n4. **Clarity**: 10/10\\n   Information is logically organized with clear paragraphs, specific timelines, and straightforward language.\\n\\n5. **Brand Representation**: 10/10\\n   The company appears accountable, proactive, and customer-focused through its admission, compensation, and commitment to improvement.\\n\\n**TOTAL SCORE: 96/100**\\n\\nThis is an excellent response that addresses the customer's concern comprehensively while maintaining professionalism and showing genuine care for their experience.\", type='text')]\n"
     ]
    }
   ],
   "source": [
    "message = client.messages.create(\n",
    "    model=\"claude-3-7-sonnet-20250219\",\n",
    "    max_tokens=5000,\n",
    "    thinking={\n",
    "        \"type\": \"enabled\",\n",
    "        \"budget_tokens\": 3000\n",
    "    },\n",
    "    temperature=1,\n",
    "    system=system_message,\n",
    "    messages=[\n",
    "        {\n",
    "            \"role\": \"user\",\n",
    "            \"content\": [\n",
    "                {\n",
    "                    \"type\": \"text\",\n",
    "                    \"text\": scoring_prompt\n",
    "                }\n",
    "            ]\n",
    "        }\n",
    "    ]\n",
    ")\n",
    "reasoning_response = message.content\n",
    "print(reasoning_response)"
   ]
  },
  {
   "cell_type": "code",
   "execution_count": 43,
   "id": "f8a07c6f",
   "metadata": {},
   "outputs": [
    {
     "data": {
      "text/markdown": [
       "Let me evaluate this customer service email response based on the provided rubric. I'll assess each category on a scale of 1-10 and provide a one-line explanation.\n",
       "\n",
       "1. **Professionalism** (1-10)\n",
       "The email uses a professional tone throughout, with appropriate salutation and closing. It avoids defensive language, maintains formality without being cold, and uses proper grammar and structure. The subject line is clear and professional. The tone is respectful and acknowledges the customer's concern without questioning their claim.\n",
       "Score: 9/10\n",
       "\n",
       "2. **Empathy** (1-10)\n",
       "The response begins with an apology and acknowledges the customer's frustration with unexpected charges. It shows understanding of the inconvenience caused and validates the customer's feelings. The email goes beyond just acknowledging the issue by offering a gesture (10% discount) and promising follow-up, showing they value the customer's experience.\n",
       "Score: 9/10\n",
       "\n",
       "3. **Problem Resolution** (1-10)\n",
       "The email clearly states they've confirmed the billing discrepancy and provides a specific solution (full refund) with a timeline (3-5 business days). It also mentions preventative measures for the future and provides a follow-up mechanism (manager will contact by tomorrow). The resolution is complete and addresses immediate concerns as well as future prevention.\n",
       "Score: 10/10\n",
       "\n",
       "4. **Clarity** (1-10)\n",
       "The message is well-structured with clear paragraphs, each serving a purpose. It's concise yet complete, avoids jargon, and clearly communicates what happened and what will happen next. The timeline and expectations are explicitly stated.\n",
       "Score: 10/10\n",
       "\n",
       "5. **Brand Representation** (1-10)\n",
       "The response portrays the company as responsible (by admitting the mistake), proactive (by implementing new verification steps), generous (by offering a discount), and customer-focused (by promising personal follow-up). It concludes with a commitment statement that reinforces brand values of trust and accountability.\n",
       "Score: 10/10\n",
       "\n",
       "To calculate the total score, I'll multiply each category score by 2 (since there are 5 categories and the total is out of 100):\n",
       "- Professionalism: 9 × 2 = 18\n",
       "- Empathy: 9 × 2 = 18\n",
       "- Problem Resolution: 10 × 2 = 20\n",
       "- Clarity: 10 × 2 = 20\n",
       "- Brand Representation: 10 × 2 = 20\n",
       "\n",
       "Total: 18 + 18 + 20 + 20 + 20 = 96/100"
      ],
      "text/plain": [
       "<IPython.core.display.Markdown object>"
      ]
     },
     "metadata": {},
     "output_type": "display_data"
    }
   ],
   "source": [
    "display(Markdown(reasoning_response[0].thinking))"
   ]
  },
  {
   "cell_type": "code",
   "execution_count": 44,
   "id": "2c6ee56e",
   "metadata": {},
   "outputs": [
    {
     "data": {
      "text/markdown": [
       "# Email Response Evaluation\n",
       "\n",
       "1. **Professionalism**: 9/10\n",
       "   The email maintains a formal yet approachable tone with proper structure and no defensive language.\n",
       "\n",
       "2. **Empathy**: 9/10\n",
       "   The response immediately acknowledges frustration and validates the customer's feelings about the unexpected charge.\n",
       "\n",
       "3. **Problem Resolution**: 10/10\n",
       "   Provides a specific solution (full refund) with clear timeline, preventative measures, and follow-up commitment.\n",
       "\n",
       "4. **Clarity**: 10/10\n",
       "   Information is logically organized with clear paragraphs, specific timelines, and straightforward language.\n",
       "\n",
       "5. **Brand Representation**: 10/10\n",
       "   The company appears accountable, proactive, and customer-focused through its admission, compensation, and commitment to improvement.\n",
       "\n",
       "**TOTAL SCORE: 96/100**\n",
       "\n",
       "This is an excellent response that addresses the customer's concern comprehensively while maintaining professionalism and showing genuine care for their experience."
      ],
      "text/plain": [
       "<IPython.core.display.Markdown object>"
      ]
     },
     "metadata": {},
     "output_type": "display_data"
    }
   ],
   "source": [
    "display(Markdown(reasoning_response[1].text))"
   ]
  }
 ],
 "metadata": {
  "kernelspec": {
   "display_name": "AI-Engineering-Essentials",
   "language": "python",
   "name": "python3"
  },
  "language_info": {
   "codemirror_mode": {
    "name": "ipython",
    "version": 3
   },
   "file_extension": ".py",
   "mimetype": "text/x-python",
   "name": "python",
   "nbconvert_exporter": "python",
   "pygments_lexer": "ipython3",
   "version": "3.11.4"
  }
 },
 "nbformat": 4,
 "nbformat_minor": 5
}
